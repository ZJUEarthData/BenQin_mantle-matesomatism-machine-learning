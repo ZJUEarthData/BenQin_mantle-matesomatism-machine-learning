{
 "cells": [
  {
   "cell_type": "code",
   "execution_count": 52,
   "id": "charming-affect",
   "metadata": {},
   "outputs": [],
   "source": [
    "#############################################################################\n",
    "#                    用来将重复经纬度的数据进行归并                               #\n",
    "#                    最后把数据划分成 经度 维度 数据重复项 重复数据                 #\n",
    "#                                  LON LAT  N        [N1,N2,……Nn]           #\n",
    "#                    最后写在Excel并且输出                                     #\n",
    "#############################################################################\n",
    "import pandas as pd\n",
    "import numpy as np\n",
    "import matplotlib.pyplot as plt\n",
    "from openpyxl import load_workbook,Workbook"
   ]
  },
  {
   "cell_type": "code",
   "execution_count": 59,
   "id": "wired-quarterly",
   "metadata": {},
   "outputs": [],
   "source": [
    "\n",
    "'''\n",
    "    1.首先在Excel中求得经纬度的平均值，列标签要求为LON，LAT\n",
    "    #虽然这一步在代码中可以实现，但是这边求懒了\n",
    "'''\n",
    "\n",
    "\n",
    "def write(ExcelPath,SavePath,Savepig,ThresholdValue=100):\n",
    "\n",
    "    '''\n",
    "    :param ExcelPath: 原始数据的绝对地址\n",
    "    :param SavePath: 存放生成数据的Excel绝对地址\n",
    "    :param Savepig: 存储图片的地址\n",
    "    :param ThresholdValue:阈值，默认=100\n",
    "    :return:None\n",
    "    '''\n",
    "\n",
    "    df1 = pd.read_excel(ExcelPath)\n",
    "    df1 = pd.DataFrame(df1)\n",
    "\n",
    "    N = df1[['LAT','LON','M']]\n",
    "    gb = N.groupby(['LAT','LON'])\n",
    "    #BaseData会统计经纬度的概率数量\n",
    "    BaseData = pd.DataFrame(gb.count())\n",
    "    BaseData.to_excel(SavePath)\n",
    "    '''\n",
    " \n",
    "        2.\n",
    "        基础经纬度和重复项已经写进去Data.xlsx中\n",
    "        接下来把重复项的具体项写进去\n",
    "        使用{(LAT,LON)]:[M1,M2,……,Mn]}\n",
    "    '''\n",
    "    #将数据使用字典绑定，key是元组(LAT,LON)，Value是[M1,M2,……,Mn]\n",
    "    dict = {}\n",
    "    for i in range(len(N)):\n",
    "        if dict.get((N['LAT'][i],N['LON'][i])) == None:  # 在字典中查找key，因为创建的是空字典，每个key第一次get结果都是None\n",
    "            dict[(N['LAT'][i],N['LON'][i])] = []\n",
    "            dict[(N['LAT'][i],N['LON'][i])].append(N['M'][i])\n",
    "        else:\n",
    "            dict[(N['LAT'][i], N['LON'][i])].append(N['M'][i])\n",
    "    #对dict排序，从而得到和BaseData一样的排序\n",
    "    index = sorted(dict)\n",
    "    '''\n",
    "    3.\n",
    "    直方图\n",
    "    纵坐标是数量：\n",
    "    横坐标是概率：\n",
    "    '''\n",
    "    #阈值\n",
    "    ThresholdValue = 100\n",
    "    ##先读入文件路径\n",
    "    writer = pd.ExcelWriter(SavePath, engine='openpyxl',mode='a')\n",
    "    writer.book = load_workbook(SavePath)\n",
    "\n",
    "    ws = writer.book[\"Sheet1\"]  # 指定工作表\n",
    "    #len(dict)+2=975\n",
    "    for i in range(2,len(dict)+2):\n",
    "        if ws.cell(row=i, column=3).value >= ThresholdValue:\n",
    "            print(ws.cell(row=i, column=3).value)\n",
    "            #hist的参数可以根据需要修改\n",
    "            n, bins, patches = plt.hist(dict[(index[i - 2][0],index[i - 2][1])],bins=50)\n",
    "            plt.xlabel(\"M\")\n",
    "            plt.ylabel(\"Amount\")\n",
    "            plt.title(str(index[i - 2][0])+\",\"+ str(index[i - 2][1]))\n",
    "            fig = plt.gcf()\n",
    "            fig.savefig(Savepig+str(i)+\".png\")\n",
    "            plt.close()\n",
    "        for j in range(len(dict[(index[i-2][0],index[i-2][1])])):\n",
    "            ws.cell(row=i, column=j+4).value = dict[(index[i-2][0],index[i-2][1])][j]\n",
    "    writer.save()  # 保存后才能成功改动\n",
    "    writer.close()\n"
   ]
  },
  {
   "cell_type": "code",
   "execution_count": 60,
   "id": "departmental-moral",
   "metadata": {},
   "outputs": [
    {
     "name": "stdout",
     "output_type": "stream",
     "text": [
      "230\n",
      "128\n",
      "104\n",
      "162\n",
      "102\n",
      "325\n",
      "124\n",
      "183\n",
      "101\n",
      "129\n",
      "100\n",
      "124\n",
      "109\n",
      "388\n",
      "138\n",
      "105\n",
      "103\n",
      "208\n",
      "304\n",
      "125\n",
      "139\n",
      "192\n",
      "162\n",
      "142\n",
      "149\n",
      "262\n",
      "117\n",
      "281\n",
      "1051\n",
      "141\n",
      "532\n",
      "105\n",
      "115\n",
      "283\n",
      "107\n",
      "131\n",
      "256\n",
      "530\n",
      "122\n",
      "256\n",
      "116\n"
     ]
    }
   ],
   "source": [
    "\n",
    "write('C:\\\\Users\\\\lenovo\\Desktop\\\\prediction_results\\\\Majorprediction.xlsx','C:\\\\Users\\\\lenovo\\Desktop\\\\prediction_results\\\\Data.xlsx','D:\\\\Python\\\\histogram\\\\',100)"
   ]
  },
  {
   "cell_type": "code",
   "execution_count": null,
   "id": "isolated-launch",
   "metadata": {},
   "outputs": [],
   "source": []
  }
 ],
 "metadata": {
  "kernelspec": {
   "display_name": "Python 3",
   "language": "python",
   "name": "python3"
  },
  "language_info": {
   "codemirror_mode": {
    "name": "ipython",
    "version": 3
   },
   "file_extension": ".py",
   "mimetype": "text/x-python",
   "name": "python",
   "nbconvert_exporter": "python",
   "pygments_lexer": "ipython3",
   "version": "3.9.2"
  },
  "varInspector": {
   "cols": {
    "lenName": 16,
    "lenType": 16,
    "lenVar": 40
   },
   "kernels_config": {
    "python": {
     "delete_cmd_postfix": "",
     "delete_cmd_prefix": "del ",
     "library": "var_list.py",
     "varRefreshCmd": "print(var_dic_list())"
    },
    "r": {
     "delete_cmd_postfix": ") ",
     "delete_cmd_prefix": "rm(",
     "library": "var_list.r",
     "varRefreshCmd": "cat(var_dic_list()) "
    }
   },
   "types_to_exclude": [
    "module",
    "function",
    "builtin_function_or_method",
    "instance",
    "_Feature"
   ],
   "window_display": false
  }
 },
 "nbformat": 4,
 "nbformat_minor": 5
}
