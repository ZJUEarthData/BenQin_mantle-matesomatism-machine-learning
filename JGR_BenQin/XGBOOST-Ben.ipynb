{
 "cells": [
  {
   "cell_type": "code",
   "execution_count": 1,
   "id": "nervous-worcester",
   "metadata": {},
   "outputs": [],
   "source": [
    "# Make the following code support python2 and python3\n",
    "from __future__ import division, print_function, unicode_literals\n",
    "\n",
    "# Check if the version of python is 3.5 and above\n",
    "import sys\n",
    "assert sys.version_info >= (3, 5)\n",
    "\n",
    "# Check to see if sklearn is version 0.20 and above\n",
    "import sklearn\n",
    "assert sklearn.__version__ >= \"0.20\"\n",
    "from sklearn.decomposition import PCA\n",
    "import numpy as np\n",
    "import pandas as pd\n",
    "from matplotlib import pyplot as plt\n",
    "import os \n",
    "from xgboost import XGBClassifier\n",
    "from sklearn.metrics import accuracy_score, r2_score, make_scorer, f1_score, recall_score, precision_score\n",
    "from sklearn.model_selection import GridSearchCV\n",
    "from sklearn.model_selection import train_test_split\n",
    "from sklearn.metrics import roc_auc_score\n",
    "from sklearn.metrics import roc_curve, auc\n",
    "from sklearn.metrics import confusion_matrix\n",
    "import seaborn as sns\n",
    "# The result obtained after each run is the same as that of this notebook\n",
    "np.random.seed(42) \n",
    "\n",
    "# Make matplotlib diagrams work better\n",
    "%matplotlib inline\n",
    "import matplotlib as mpl\n",
    "mpl.rc('axes', labelsize=14)\n",
    "mpl.rc('xtick', labelsize=12)\n",
    "mpl.rc('ytick', labelsize=12)\n"
   ]
  },
  {
   "cell_type": "code",
   "execution_count": 2,
   "id": "above-crash",
   "metadata": {},
   "outputs": [],
   "source": [
    "# Ignoring Unnecessary Warnings\n",
    "import warnings\n",
    "warnings.filterwarnings(action=\"ignore\", message=\"^internal gelsd\")"
   ]
  },
  {
   "cell_type": "code",
   "execution_count": 3,
   "id": "fallen-maple",
   "metadata": {},
   "outputs": [],
   "source": [
    "orig_data = pd.read_excel('C:\\\\Users\\\\lenovo\\\\Desktop\\\\Trainingset\\\\finaltrain\\\\TRACE1.xlsx')#Preprocessing\\\\REE微量\\\\删除重复标签\n",
    " #orig_data.dropna(inplace=True) #delete missing value\n",
    "#orig_data C:\\\\Users\\\\lenovo\\\\Desktop\\\\Trainingset\\\\finaltrain\\\\MAJOR1-4.xlsx"
   ]
  },
  {
   "cell_type": "code",
   "execution_count": 4,
   "id": "broken-instruction",
   "metadata": {},
   "outputs": [],
   "source": [
    "# Separate features and labels\n",
    "X = orig_data.drop([\"TRUE_VALUE\"], axis=1).copy()\n",
    "y = orig_data[\"TRUE_VALUE\"]"
   ]
  },
  {
   "cell_type": "code",
   "execution_count": null,
   "id": "conventional-uruguay",
   "metadata": {},
   "outputs": [],
   "source": [
    "plt.figure(figsize=(16, 6))\n",
    "sns.countplot(orig_data.TRUE_VALUE, palette=\"Set2\")\n",
    "plt.xticks(rotation=0)"
   ]
  },
  {
   "cell_type": "code",
   "execution_count": 6,
   "id": "established-variety",
   "metadata": {},
   "outputs": [
    {
     "data": {
      "text/plain": [
       "((610, 30), (262, 30), (610,), (262,))"
      ]
     },
     "execution_count": 6,
     "metadata": {},
     "output_type": "execute_result"
    }
   ],
   "source": [
    "X_train, X_test, y_train, y_test = train_test_split(X, y, test_size=0.3, random_state=42)\n",
    "\n",
    "X_train.shape, X_test.shape, y_train.shape, y_test.shape"
   ]
  },
  {
   "cell_type": "code",
   "execution_count": 7,
   "id": "built-sheriff",
   "metadata": {},
   "outputs": [],
   "source": [
    "#roc_auc_score = make_scorer(roc_auc_score, multi_class='ovo',needs_proba=True) #3 classes roc_auc\n",
    "#f1_score = make_scorer(f1_score, multi_class='ovo',needs_proba=True)\n",
    "#recall_score = make_scorer(recall_score, multi_class='ovo',needs_proba=True)\n",
    "#precision_score = make_scorer(precision_score, multi_class='ovo',needs_proba=True)"
   ]
  },
  {
   "cell_type": "code",
   "execution_count": null,
   "id": "regulated-gathering",
   "metadata": {},
   "outputs": [],
   "source": [
    "xgb_clf = XGBClassifier()\n",
    "xgb_clf.fit(X_train, y_train)\n",
    "y_pred_xgb = xgb_clf.predict(X_train)"
   ]
  },
  {
   "cell_type": "code",
   "execution_count": 11,
   "id": "steady-least",
   "metadata": {},
   "outputs": [
    {
     "name": "stdout",
     "output_type": "stream",
     "text": [
      "Scores: [0.84536082 0.94339623 1.         0.99082569 1.         0.97297297\n",
      " 0.89795918 0.95575221 0.99065421 0.57894737]\n",
      "Mean: 0.9175868682295109\n",
      "Standard deviation: 0.12237463150215917\n"
     ]
    }
   ],
   "source": [
    "from sklearn.model_selection import cross_val_score\n",
    "\n",
    "# Ten-fold cross validation\n",
    "scores = cross_val_score(xgb_clf, X, y,\n",
    "                        scoring = \"f1\", cv=10,\n",
    "                        n_jobs=-1)\n",
    "def display_scores(scores):\n",
    "\n",
    "    print(\"Scores:\", scores)\n",
    "    print(\"Mean:\", scores.mean())\n",
    "    print(\"Standard deviation:\", scores.std())\n",
    "    \n",
    "display_scores(scores)"
   ]
  },
  {
   "cell_type": "code",
   "execution_count": 10,
   "id": "caroline-argument",
   "metadata": {},
   "outputs": [
    {
     "data": {
      "text/plain": [
       "array([0.05618815, 0.10033856, 0.1845818 , 0.12067229, 0.1685267 ,\n",
       "       0.06916326, 0.05847796, 0.10180902, 0.14024228], dtype=float32)"
      ]
     },
     "execution_count": 10,
     "metadata": {},
     "output_type": "execute_result"
    }
   ],
   "source": [
    "xgb_clf.feature_importances_"
   ]
  },
  {
   "cell_type": "code",
   "execution_count": 11,
   "id": "seventh-johns",
   "metadata": {
    "scrolled": true
   },
   "outputs": [
    {
     "name": "stdout",
     "output_type": "stream",
     "text": [
      "SIO2(WT%) : 0.056188148\n",
      "TIO2(WT%) : 0.10033856\n",
      "AL2O3(WT%) : 0.1845818\n",
      "CR2O3(WT%) : 0.120672286\n",
      "FEOT(WT%) : 0.1685267\n",
      "CAO(WT%) : 0.069163255\n",
      "MGO(WT%) : 0.058477964\n",
      "MNO(WT%) : 0.10180902\n",
      "NA2O(WT%) : 0.14024228\n"
     ]
    }
   ],
   "source": [
    "# show feature importance\n",
    "for feature_name, score in zip(list(X.columns), xgb_clf.feature_importances_):\n",
    "    print(feature_name, \":\", score)"
   ]
  },
  {
   "cell_type": "code",
   "execution_count": 30,
   "id": "standard-serum",
   "metadata": {},
   "outputs": [],
   "source": [
    "learning_rate = [ 0.1, 0.2, 0.5,0.6,0.7]\n",
    "depth = [3, 4, 5, 6, 7]\n",
    "min_split = [0.1,0.2,0.5, 1, 2, 3]\n",
    "alpha1 = [0.1,0.3,0.5,0.7,0.9, 1]\n",
    "#colsample_bytree= [0.5,0.6,0.7,0.8,0.9,1]\n",
    "#n_estimiter = [100,200,300,500,800,1000]  \n",
    "#weight gain cover #,n_estimators=1000"
   ]
  },
  {
   "cell_type": "code",
   "execution_count": 31,
   "id": "prerequisite-endorsement",
   "metadata": {},
   "outputs": [],
   "source": [
    "xgb = XGBClassifier(objective='binary:logistic',\n",
    "                    eval_metric = 'auc', tree_method='hist', seed=2021,importance_type = 'cover')"
   ]
  },
  {
   "cell_type": "code",
   "execution_count": null,
   "id": "paperback-directory",
   "metadata": {},
   "outputs": [],
   "source": [
    "xgb_cv = GridSearchCV(xgb, param_grid = {'eta': learning_rate, 'gamma': min_split, 'max_depth': depth, 'alpha':alpha1}, \n",
    "                      cv=10, scoring='f1') \n",
    "xgb_cv.fit(X_train, y_train)"
   ]
  },
  {
   "cell_type": "code",
   "execution_count": 33,
   "id": "nonprofit-jacksonville",
   "metadata": {},
   "outputs": [],
   "source": [
    "#xgb_cv.best_params_"
   ]
  },
  {
   "cell_type": "code",
   "execution_count": 34,
   "id": "optical-drove",
   "metadata": {},
   "outputs": [
    {
     "data": {
      "text/plain": [
       "0.9728113778113778"
      ]
     },
     "execution_count": 34,
     "metadata": {},
     "output_type": "execute_result"
    }
   ],
   "source": [
    "xgb_cv.best_score_"
   ]
  },
  {
   "cell_type": "code",
   "execution_count": 35,
   "id": "indian-operator",
   "metadata": {
    "scrolled": true
   },
   "outputs": [
    {
     "data": {
      "text/plain": [
       "XGBClassifier(alpha=0.1, base_score=0.5, booster='gbtree', colsample_bylevel=1,\n",
       "              colsample_bynode=1, colsample_bytree=1, eta=0.7,\n",
       "              eval_metric='auc', gamma=0.5, gpu_id=-1, importance_type='cover',\n",
       "              interaction_constraints='', learning_rate=0.699999988,\n",
       "              max_delta_step=0, max_depth=3, min_child_weight=1, missing=nan,\n",
       "              monotone_constraints='()', n_estimators=100, n_jobs=12,\n",
       "              num_parallel_tree=1, random_state=2021, reg_alpha=0.100000001,\n",
       "              reg_lambda=1, scale_pos_weight=1, seed=2021, subsample=1,\n",
       "              tree_method='hist', validate_parameters=1, verbosity=None)"
      ]
     },
     "execution_count": 35,
     "metadata": {},
     "output_type": "execute_result"
    }
   ],
   "source": [
    "xgb_cv.best_estimator_"
   ]
  },
  {
   "cell_type": "code",
   "execution_count": 36,
   "id": "improved-speaker",
   "metadata": {},
   "outputs": [],
   "source": [
    "features = list(X.columns)\n",
    "importances = xgb_cv.best_estimator_.feature_importances_\n",
    "indices = np.argsort(importances)"
   ]
  },
  {
   "cell_type": "code",
   "execution_count": 37,
   "id": "other-arthritis",
   "metadata": {},
   "outputs": [],
   "source": [
    "df4 = pd.DataFrame({'features':features,'importances':importances})\n",
    "df4.to_excel('fig5-trace.xlsx')"
   ]
  },
  {
   "cell_type": "code",
   "execution_count": null,
   "id": "worst-maple",
   "metadata": {},
   "outputs": [],
   "source": [
    "plt.barh(range(len(indices)), importances[indices], color='c', align='center')\n",
    "plt.yticks(range(len(indices)), [features[i] for i in indices], fontsize=20)\n",
    "plt.xticks(fontsize=20)\n",
    "plt.xlabel('Relative Importance',fontsize=25)\n",
    "plt.savefig('Major1 Feature.png', dpi=900)\n",
    "plt.show()\n",
    "plt.rcParams[\"figure.figsize\"] = (20, 10)\n"
   ]
  },
  {
   "cell_type": "code",
   "execution_count": null,
   "id": "coordinate-explanation",
   "metadata": {},
   "outputs": [],
   "source": [
    "from sklearn.model_selection import cross_val_score\n",
    "\n",
    "# ten-fold cross validation\n",
    "scores = cross_val_score(xgb_cv.best_estimator_, X_train, y_train,\n",
    "                        scoring = \"accuracy\", cv=10,\n",
    "                        n_jobs=-1)\n",
    "def display_scores(scores):\n",
    "    \n",
    "    print(\"Scores:\", scores)\n",
    "    print(\"Mean:\", scores.mean())\n",
    "    print(\"Standard deviation:\", scores.std())\n",
    "    \n",
    "display_scores(scores)"
   ]
  },
  {
   "cell_type": "code",
   "execution_count": null,
   "id": "actual-filter",
   "metadata": {},
   "outputs": [],
   "source": [
    "# predict the test data set\n",
    "xgb_test = xgb_cv.best_estimator_\n",
    "xgb_test.fit(X_train,y_train)\n",
    "y_test_pred = xgb_test.predict(X_test)"
   ]
  },
  {
   "cell_type": "code",
   "execution_count": null,
   "id": "buried-there",
   "metadata": {},
   "outputs": [],
   "source": [
    "print('Accuracy: %.3f' % accuracy_score(y_test, y_test_pred))\n",
    "print('ROC AUC: %.3f' % roc_auc_score(y_test, y_test_pred))\n",
    "print('Precision: %.3f' % precision_score(y_true=y_test, y_pred=y_test_pred))\n",
    "print('Recall: %.3f' % recall_score(y_true=y_test, y_pred=y_test_pred))\n",
    "print('F1 Score: %.3f' % f1_score(y_true=y_test, y_pred=y_test_pred))"
   ]
  },
  {
   "cell_type": "code",
   "execution_count": null,
   "id": "numeric-indonesia",
   "metadata": {},
   "outputs": [],
   "source": [
    "from sklearn.metrics import classification_report\n",
    "\n",
    "print(classification_report(y_true=y_test, y_pred=y_test_pred))"
   ]
  },
  {
   "cell_type": "code",
   "execution_count": null,
   "id": "sunset-bruce",
   "metadata": {},
   "outputs": [],
   "source": [
    "confmat = confusion_matrix(y_true=y_test, y_pred=y_test_pred)\n",
    "\n",
    "print(confmat)"
   ]
  },
  {
   "cell_type": "code",
   "execution_count": null,
   "id": "naked-machinery",
   "metadata": {},
   "outputs": [],
   "source": [
    "fig, ax = plt.subplots(figsize=(5, 5))\n",
    "ax.matshow(confmat, cmap=plt.cm.Blues, alpha=0.3)\n",
    "for i in range(confmat.shape[0]):\n",
    "    for j in range(confmat.shape[1]):\n",
    "        ax.text(x=j, y=i, s=confmat[i,j], va='center', ha='center')\n",
    "plt.xlabel('predicted label',fontsize=20)\n",
    "plt.ylabel('true label',fontsize=20)\n",
    "plt.savefig('Major1 Confusion.png', dpi=900)\n",
    "plt.show()"
   ]
  },
  {
   "cell_type": "code",
   "execution_count": 86,
   "id": "impaired-ceramic",
   "metadata": {},
   "outputs": [],
   "source": [
    "#predict the non label data\n",
    "predict_data = pd.read_excel ('C:\\\\Users\\\\lenovo\\\\Desktop\\\\Trainingset\\\\预测数据\\\\MAJOR.xlsx')\n",
    "\n",
    "#process = preprocessing.StandardScaler()\n",
    "x_predict_data = predict_data # process.fit_transform(predict_data)"
   ]
  },
  {
   "cell_type": "code",
   "execution_count": null,
   "id": "muslim-detail",
   "metadata": {},
   "outputs": [],
   "source": [
    "predict_results = xgb_cv.best_estimator_.predict_proba(x_predict_data)"
   ]
  },
  {
   "cell_type": "code",
   "execution_count": null,
   "id": "human-practice",
   "metadata": {},
   "outputs": [],
   "source": [
    "predict_results"
   ]
  },
  {
   "cell_type": "code",
   "execution_count": null,
   "id": "developmental-purse",
   "metadata": {},
   "outputs": [],
   "source": [
    "df = pd.DataFrame(data=predict_results)\n",
    "df.to_excel('predict_resultsMAJOR2.xlsx')"
   ]
  },
  {
   "cell_type": "code",
   "execution_count": null,
   "id": "talented-inclusion",
   "metadata": {},
   "outputs": [],
   "source": [
    "###Xgboost end"
   ]
  }
 ],
 "metadata": {
  "kernelspec": {
   "display_name": "Python 3",
   "language": "python",
   "name": "python3"
  },
  "language_info": {
   "codemirror_mode": {
    "name": "ipython",
    "version": 3
   },
   "file_extension": ".py",
   "mimetype": "text/x-python",
   "name": "python",
   "nbconvert_exporter": "python",
   "pygments_lexer": "ipython3",
   "version": "3.9.2"
  },
  "varInspector": {
   "cols": {
    "lenName": 16,
    "lenType": 16,
    "lenVar": 40
   },
   "kernels_config": {
    "python": {
     "delete_cmd_postfix": "",
     "delete_cmd_prefix": "del ",
     "library": "var_list.py",
     "varRefreshCmd": "print(var_dic_list())"
    },
    "r": {
     "delete_cmd_postfix": ") ",
     "delete_cmd_prefix": "rm(",
     "library": "var_list.r",
     "varRefreshCmd": "cat(var_dic_list()) "
    }
   },
   "types_to_exclude": [
    "module",
    "function",
    "builtin_function_or_method",
    "instance",
    "_Feature"
   ],
   "window_display": false
  }
 },
 "nbformat": 4,
 "nbformat_minor": 5
}
